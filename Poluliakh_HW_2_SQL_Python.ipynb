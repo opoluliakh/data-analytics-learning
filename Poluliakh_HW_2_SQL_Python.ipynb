{
 "cells": [
  {
   "cell_type": "markdown",
   "metadata": {
    "id": "KRtr9pOrz8um"
   },
   "source": [
    "# Домашнє завдання: Внесення оновлень в БД і робота з транзакціями\n",
    "\n",
    "Це ДЗ передбачене під виконання на локальній машині. Виконання з Google Colab буде суттєво ускладнене.\n",
    "\n",
    "## Підготовка\n",
    "1. Переконайтесь, що у вас встановлены необхідні бібліотеки:\n",
    "   ```bash\n",
    "   pip install sqlalchemy pymysql pandas matplotlib seaborn python-dotenv\n",
    "   ```\n",
    "\n",
    "2. Створіть файл `.env` з параметрами підключення до бази даних classicmodels. Базу даних ви можете отримати через\n",
    "\n",
    "  - docker-контейнер згідно існтрукції в [документі](https://www.notion.so/hannapylieva/Docker-1eb94835849480c9b2e7f5dc22ee4df9), також відео інструкції присутні на платформі - уроки \"MySQL бази, клієнт для роботи з БД, Docker і ChatGPT для запитів\" та \"Як встановити Docker для роботи з базами даних без терміналу\"\n",
    "  - або встановивши локально цю БД - для цього перегляньте урок \"Опціонально. Встановлення MySQL та  БД Сlassicmodels локально\".\n",
    "  \n",
    "  Приклад `.env` файлу ми створювали в лекції. Ось його обовʼязкове наповнення:\n",
    "    ```\n",
    "    DB_HOST=your_host\n",
    "    DB_PORT=3306 або 3307 - той, який Ви налаштували\n",
    "    DB_USER=your_username\n",
    "    DB_PASSWORD=your_password\n",
    "    DB_NAME=classicmodels\n",
    "    ```\n",
    "  Якщо ви створили цей файл під час перегляду лекції - **новий створювати не треба**. Замініть лише назву БД, або пропишіть назву в коді створення підключення (замість отримання назви цільової БД зі змінних оточення). Але переконайтесь, що до `.env` файл лежить в тій самій папці, що і цей ноутбук.\n",
    "\n",
    "  **УВАГА!** НЕ копіюйте скрит для **створення** `.env` файлу. В лекції він наводиться для прикладу. І давалось пояснення, що в реальних проєктах ми НІКОЛИ не пишемо доступи до бази в коді. Копіювання скрипта для створення `.env` файлу сюди в ДЗ буде вважатись грубою помилкою і ми зніматимемо бали.\n",
    "\n",
    "3. Налаштуйте підключення через SQLAlchemy до БД за прикладом в лекції.\n",
    "\n",
    "Рекомендую вивести (відобразити) змінну engine після створення. Вона має бути не None! Якщо None - значить у Вас не підтягнулись налаштування з .env файла.\n",
    "\n",
    "Ви також можете налаштувати параметри підключення до БД без .env файла, просто прописавши текстом в відповідних місцях. Це - не рекомендований підхід.\n",
    "\n",
    "\n",
    "## Завдання\n",
    "\n",
    "### Завдання 1: Оновлення інформації про клієнта (2 бали)\n",
    "\n",
    "**Створіть функцію для оновлення контактної інформації клієнта за його номером** з наступними можливостями:\n",
    "- Оновлення телефону клієнта\n",
    "- Оновлення email (якщо поле існує в таблиці)\n",
    "\n",
    "Опціонально, якщо вам хочеться більше практики:\n",
    "- Логування змін в окрему таблицю\n",
    "\n",
    "Використайте підхід з параметризованими запитами через `text()` та `UPDATE` оператор. Не забудьте на початку перевірити чи існує клієнт з таким номером в базі - це хороша практика.\n",
    "\n",
    "Отримати всі колонки, які існують в таблиці ви можете наступним запитом\n",
    "```\n",
    "  SELECT COLUMN_NAME, DATA_TYPE\n",
    "  FROM INFORMATION_SCHEMA.COLUMNS\n",
    "  WHERE TABLE_NAME = 'customers'\n",
    "```\n",
    "\n",
    "Запустіть функцію і продемонструйте її роботу, запустивши SELECT, який допоможе це зробити.\n",
    "\n"
   ]
  },
  {
   "cell_type": "code",
   "execution_count": 1,
   "metadata": {
    "execution": {
     "iopub.execute_input": "2025-08-24T14:33:33.272303Z",
     "iopub.status.busy": "2025-08-24T14:33:33.270348Z",
     "iopub.status.idle": "2025-08-24T14:33:33.552751Z",
     "shell.execute_reply": "2025-08-24T14:33:33.552392Z",
     "shell.execute_reply.started": "2025-08-24T14:33:33.272199Z"
    },
    "id": "u60cWg7m2l26"
   },
   "outputs": [
    {
     "name": "stdout",
     "output_type": "stream",
     "text": [
      "✅ Connected to classicmodels on 127.0.0.1:3306 as root\n"
     ]
    }
   ],
   "source": [
    "from sqlalchemy import create_engine, text\n",
    "from dotenv import load_dotenv\n",
    "import os\n",
    "\n",
    "# читаємо .env (без перезапису файлу)\n",
    "load_dotenv(override=True)\n",
    "\n",
    "def create_connection(db_name=\"classicmodels\"):\n",
    "    \"\"\"\n",
    "    Підключення до бази даних MySQL з параметрами з .env,\n",
    "    але з можливістю вказати іншу назву бази (db_name).\n",
    "    \"\"\"\n",
    "    host = os.getenv(\"DB_HOST\", \"127.0.0.1\")\n",
    "    port = int(os.getenv(\"DB_PORT\", \"3306\"))\n",
    "    user = os.getenv(\"DB_USER\", \"root\")\n",
    "    password = os.getenv(\"DB_PASSWORD\", \"\")\n",
    "    \n",
    "    url = f\"mysql+pymysql://{user}:{password}@{host}:{port}/{db_name}\"\n",
    "\n",
    "    engine = create_engine(\n",
    "        url,\n",
    "        pool_size=2,\n",
    "        max_overflow=20,\n",
    "        pool_pre_ping=True,\n",
    "        echo=False\n",
    "    )\n",
    "\n",
    "    # тестуємо підключення\n",
    "    with engine.connect() as conn:\n",
    "        conn.execute(text(\"SELECT 1\"))\n",
    "    print(f\"✅ Connected to {db_name} on {host}:{port} as {user}\")\n",
    "    return engine\n",
    "\n",
    "# приклад використання\n",
    "engine = create_connection(\"classicmodels\")\n"
   ]
  },
  {
   "cell_type": "code",
   "execution_count": 5,
   "metadata": {
    "execution": {
     "iopub.execute_input": "2025-08-24T14:40:54.840422Z",
     "iopub.status.busy": "2025-08-24T14:40:54.838404Z",
     "iopub.status.idle": "2025-08-24T14:40:54.926807Z",
     "shell.execute_reply": "2025-08-24T14:40:54.926018Z",
     "shell.execute_reply.started": "2025-08-24T14:40:54.840337Z"
    }
   },
   "outputs": [
    {
     "name": "stdout",
     "output_type": "stream",
     "text": [
      "Є phone?  True\n",
      "Є email?  False\n"
     ]
    }
   ],
   "source": [
    "from sqlalchemy import text\n",
    "import pandas as pd\n",
    "\n",
    "def table_has_column(engine, table_name: str, column_name: str) -> bool:\n",
    "    sql = text(\"\"\"\n",
    "        SELECT 1\n",
    "        FROM INFORMATION_SCHEMA.COLUMNS\n",
    "        WHERE TABLE_SCHEMA = DATABASE()\n",
    "          AND TABLE_NAME   = :t\n",
    "          AND COLUMN_NAME  = :c\n",
    "        LIMIT 1\n",
    "    \"\"\")\n",
    "    with engine.connect() as conn:\n",
    "        return conn.execute(sql, {\"t\": table_name, \"c\": column_name}).fetchone() is not None\n",
    "\n",
    "print(\"Є phone? \", table_has_column(engine, \"customers\", \"phone\"))\n",
    "print(\"Є email? \", table_has_column(engine, \"customers\", \"email\"))\n",
    "\n"
   ]
  },
  {
   "cell_type": "code",
   "execution_count": 7,
   "metadata": {
    "execution": {
     "iopub.execute_input": "2025-08-24T14:57:28.493662Z",
     "iopub.status.busy": "2025-08-24T14:57:28.488290Z",
     "iopub.status.idle": "2025-08-24T14:57:28.567245Z",
     "shell.execute_reply": "2025-08-24T14:57:28.566725Z",
     "shell.execute_reply.started": "2025-08-24T14:57:28.493555Z"
    }
   },
   "outputs": [
    {
     "data": {
      "text/html": [
       "<div>\n",
       "<style scoped>\n",
       "    .dataframe tbody tr th:only-of-type {\n",
       "        vertical-align: middle;\n",
       "    }\n",
       "\n",
       "    .dataframe tbody tr th {\n",
       "        vertical-align: top;\n",
       "    }\n",
       "\n",
       "    .dataframe thead th {\n",
       "        text-align: right;\n",
       "    }\n",
       "</style>\n",
       "<table border=\"1\" class=\"dataframe\">\n",
       "  <thead>\n",
       "    <tr style=\"text-align: right;\">\n",
       "      <th></th>\n",
       "      <th>db</th>\n",
       "      <th>customerNumber</th>\n",
       "      <th>customerName</th>\n",
       "      <th>phone</th>\n",
       "    </tr>\n",
       "  </thead>\n",
       "  <tbody>\n",
       "    <tr>\n",
       "      <th>0</th>\n",
       "      <td>classicmodels</td>\n",
       "      <td>103</td>\n",
       "      <td>Atelier graphique</td>\n",
       "      <td>40.32.2555</td>\n",
       "    </tr>\n",
       "  </tbody>\n",
       "</table>\n",
       "</div>"
      ],
      "text/plain": [
       "              db  customerNumber       customerName       phone\n",
       "0  classicmodels             103  Atelier graphique  40.32.2555"
      ]
     },
     "execution_count": 7,
     "metadata": {},
     "output_type": "execute_result"
    }
   ],
   "source": [
    "# 1) Перевіримо поточний телефон клієнта 103\n",
    "from sqlalchemy import text\n",
    "import pandas as pd\n",
    "\n",
    "pd.read_sql(\n",
    "    text(\"SELECT DATABASE() AS db, customerNumber, customerName, phone \"\n",
    "         \"FROM customers WHERE customerNumber=:n\"),\n",
    "    engine, params={\"n\": 103}\n",
    ")\n"
   ]
  },
  {
   "cell_type": "code",
   "execution_count": 8,
   "metadata": {
    "execution": {
     "iopub.execute_input": "2025-08-24T14:57:53.523219Z",
     "iopub.status.busy": "2025-08-24T14:57:53.521615Z",
     "iopub.status.idle": "2025-08-24T14:57:53.648378Z",
     "shell.execute_reply": "2025-08-24T14:57:53.648036Z",
     "shell.execute_reply.started": "2025-08-24T14:57:53.523145Z"
    }
   },
   "outputs": [
    {
     "name": "stdout",
     "output_type": "stream",
     "text": [
      "✅ Оновлено телефон клієнта 103: 40.32.2555 → (+33) 40.32.9999\n"
     ]
    }
   ],
   "source": [
    "# 2) ВИКЛИКАЄМО функцію оновлення (обери номер, відмінний від поточного)\n",
    "update_customer_contact(\n",
    "    engine,\n",
    "    customer_number=103,\n",
    "    new_phone=\"(+33) 40.32.9999\",   # ← постав інший номер, не той що зараз\n",
    "    log_changes=True\n",
    ")\n"
   ]
  },
  {
   "cell_type": "code",
   "execution_count": 9,
   "metadata": {
    "execution": {
     "iopub.execute_input": "2025-08-24T14:58:07.965847Z",
     "iopub.status.busy": "2025-08-24T14:58:07.964351Z",
     "iopub.status.idle": "2025-08-24T14:58:08.005706Z",
     "shell.execute_reply": "2025-08-24T14:58:08.004843Z",
     "shell.execute_reply.started": "2025-08-24T14:58:07.965767Z"
    }
   },
   "outputs": [
    {
     "data": {
      "text/html": [
       "<div>\n",
       "<style scoped>\n",
       "    .dataframe tbody tr th:only-of-type {\n",
       "        vertical-align: middle;\n",
       "    }\n",
       "\n",
       "    .dataframe tbody tr th {\n",
       "        vertical-align: top;\n",
       "    }\n",
       "\n",
       "    .dataframe thead th {\n",
       "        text-align: right;\n",
       "    }\n",
       "</style>\n",
       "<table border=\"1\" class=\"dataframe\">\n",
       "  <thead>\n",
       "    <tr style=\"text-align: right;\">\n",
       "      <th></th>\n",
       "      <th>customerNumber</th>\n",
       "      <th>customerName</th>\n",
       "      <th>phone</th>\n",
       "    </tr>\n",
       "  </thead>\n",
       "  <tbody>\n",
       "    <tr>\n",
       "      <th>0</th>\n",
       "      <td>103</td>\n",
       "      <td>Atelier graphique</td>\n",
       "      <td>(+33) 40.32.9999</td>\n",
       "    </tr>\n",
       "  </tbody>\n",
       "</table>\n",
       "</div>"
      ],
      "text/plain": [
       "   customerNumber       customerName             phone\n",
       "0             103  Atelier graphique  (+33) 40.32.9999"
      ]
     },
     "execution_count": 9,
     "metadata": {},
     "output_type": "execute_result"
    }
   ],
   "source": [
    "# 3) Перевіряємо, що номер змінився\n",
    "pd.read_sql(\n",
    "    text(\"SELECT customerNumber, customerName, phone \"\n",
    "         \"FROM customers WHERE customerNumber=:n\"),\n",
    "    engine, params={\"n\": 103}\n",
    ")\n"
   ]
  },
  {
   "cell_type": "code",
   "execution_count": 10,
   "metadata": {
    "execution": {
     "iopub.execute_input": "2025-08-24T15:02:27.236893Z",
     "iopub.status.busy": "2025-08-24T15:02:27.231597Z",
     "iopub.status.idle": "2025-08-24T15:02:27.304547Z",
     "shell.execute_reply": "2025-08-24T15:02:27.303220Z",
     "shell.execute_reply.started": "2025-08-24T15:02:27.236802Z"
    }
   },
   "outputs": [
    {
     "data": {
      "text/html": [
       "<div>\n",
       "<style scoped>\n",
       "    .dataframe tbody tr th:only-of-type {\n",
       "        vertical-align: middle;\n",
       "    }\n",
       "\n",
       "    .dataframe tbody tr th {\n",
       "        vertical-align: top;\n",
       "    }\n",
       "\n",
       "    .dataframe thead th {\n",
       "        text-align: right;\n",
       "    }\n",
       "</style>\n",
       "<table border=\"1\" class=\"dataframe\">\n",
       "  <thead>\n",
       "    <tr style=\"text-align: right;\">\n",
       "      <th></th>\n",
       "      <th>id</th>\n",
       "      <th>customerNumber</th>\n",
       "      <th>field</th>\n",
       "      <th>old_value</th>\n",
       "      <th>new_value</th>\n",
       "      <th>changed_at</th>\n",
       "    </tr>\n",
       "  </thead>\n",
       "  <tbody>\n",
       "    <tr>\n",
       "      <th>0</th>\n",
       "      <td>1</td>\n",
       "      <td>103</td>\n",
       "      <td>phone</td>\n",
       "      <td>40.32.2555</td>\n",
       "      <td>(+33) 40.32.9999</td>\n",
       "      <td>2025-08-24 14:57:53</td>\n",
       "    </tr>\n",
       "  </tbody>\n",
       "</table>\n",
       "</div>"
      ],
      "text/plain": [
       "   id  customerNumber  field   old_value         new_value          changed_at\n",
       "0   1             103  phone  40.32.2555  (+33) 40.32.9999 2025-08-24 14:57:53"
      ]
     },
     "execution_count": 10,
     "metadata": {},
     "output_type": "execute_result"
    }
   ],
   "source": [
    "from sqlalchemy import text\n",
    "import pandas as pd\n",
    "\n",
    "pd.read_sql(\n",
    "    text(\"SELECT * FROM change_log_customers ORDER BY id DESC LIMIT 10\"),\n",
    "    engine\n",
    ")\n"
   ]
  },
  {
   "cell_type": "code",
   "execution_count": null,
   "metadata": {},
   "outputs": [],
   "source": []
  },
  {
   "cell_type": "markdown",
   "metadata": {
    "id": "equimeUA0lh5"
   },
   "source": [
    "### Завдання 2: Створення нового замовлення з транзакцією (5 балів)\n",
    "\n",
    "**Реалізуйте процес створення нового замовлення** з наступними кроками в одній транзакції:\n",
    "- Створення запису в таблиці `orders`\n",
    "- Додавання товарних позицій в `orderdetails`\n",
    "- Перевірка наявності товарів на складі\n",
    "- Зменшення кількості товарів на складі\n",
    "\n",
    "Запустіть процес з тестовими даними і продемонструйте через SELECT, що процес успішно відпрацював і були виконані необхідні операції.\n",
    "\n",
    "\n"
   ]
  },
  {
   "cell_type": "code",
   "execution_count": 11,
   "metadata": {
    "execution": {
     "iopub.execute_input": "2025-08-24T15:07:50.443923Z",
     "iopub.status.busy": "2025-08-24T15:07:50.442512Z",
     "iopub.status.idle": "2025-08-24T15:07:50.527275Z",
     "shell.execute_reply": "2025-08-24T15:07:50.526258Z",
     "shell.execute_reply.started": "2025-08-24T15:07:50.443857Z"
    },
    "id": "eo9mTVkW2mpe"
   },
   "outputs": [
    {
     "data": {
      "text/html": [
       "<div>\n",
       "<style scoped>\n",
       "    .dataframe tbody tr th:only-of-type {\n",
       "        vertical-align: middle;\n",
       "    }\n",
       "\n",
       "    .dataframe tbody tr th {\n",
       "        vertical-align: top;\n",
       "    }\n",
       "\n",
       "    .dataframe thead th {\n",
       "        text-align: right;\n",
       "    }\n",
       "</style>\n",
       "<table border=\"1\" class=\"dataframe\">\n",
       "  <thead>\n",
       "    <tr style=\"text-align: right;\">\n",
       "      <th></th>\n",
       "      <th>productCode</th>\n",
       "      <th>productName</th>\n",
       "      <th>quantityInStock</th>\n",
       "      <th>MSRP</th>\n",
       "    </tr>\n",
       "  </thead>\n",
       "  <tbody>\n",
       "    <tr>\n",
       "      <th>0</th>\n",
       "      <td>S12_2823</td>\n",
       "      <td>2002 Suzuki XREO</td>\n",
       "      <td>9997</td>\n",
       "      <td>150.62</td>\n",
       "    </tr>\n",
       "    <tr>\n",
       "      <th>1</th>\n",
       "      <td>S18_1984</td>\n",
       "      <td>1995 Honda Civic</td>\n",
       "      <td>9772</td>\n",
       "      <td>142.25</td>\n",
       "    </tr>\n",
       "    <tr>\n",
       "      <th>2</th>\n",
       "      <td>S700_2466</td>\n",
       "      <td>America West Airlines B757-200</td>\n",
       "      <td>9653</td>\n",
       "      <td>99.72</td>\n",
       "    </tr>\n",
       "    <tr>\n",
       "      <th>3</th>\n",
       "      <td>S24_3432</td>\n",
       "      <td>2002 Chevy Corvette</td>\n",
       "      <td>9446</td>\n",
       "      <td>107.08</td>\n",
       "    </tr>\n",
       "    <tr>\n",
       "      <th>4</th>\n",
       "      <td>S18_2325</td>\n",
       "      <td>1932 Model A Ford J-Coupe</td>\n",
       "      <td>9354</td>\n",
       "      <td>127.13</td>\n",
       "    </tr>\n",
       "    <tr>\n",
       "      <th>5</th>\n",
       "      <td>S32_2206</td>\n",
       "      <td>1982 Ducati 996 R</td>\n",
       "      <td>9241</td>\n",
       "      <td>40.23</td>\n",
       "    </tr>\n",
       "    <tr>\n",
       "      <th>6</th>\n",
       "      <td>S24_3151</td>\n",
       "      <td>1912 Ford Model T Delivery Wagon</td>\n",
       "      <td>9173</td>\n",
       "      <td>88.51</td>\n",
       "    </tr>\n",
       "    <tr>\n",
       "      <th>7</th>\n",
       "      <td>S18_3482</td>\n",
       "      <td>1976 Ford Gran Torino</td>\n",
       "      <td>9127</td>\n",
       "      <td>146.99</td>\n",
       "    </tr>\n",
       "    <tr>\n",
       "      <th>8</th>\n",
       "      <td>S12_3380</td>\n",
       "      <td>1968 Dodge Charger</td>\n",
       "      <td>9123</td>\n",
       "      <td>117.44</td>\n",
       "    </tr>\n",
       "    <tr>\n",
       "      <th>9</th>\n",
       "      <td>S18_1589</td>\n",
       "      <td>1965 Aston Martin DB5</td>\n",
       "      <td>9042</td>\n",
       "      <td>124.44</td>\n",
       "    </tr>\n",
       "    <tr>\n",
       "      <th>10</th>\n",
       "      <td>S18_3685</td>\n",
       "      <td>1948 Porsche Type 356 Roadster</td>\n",
       "      <td>8990</td>\n",
       "      <td>141.28</td>\n",
       "    </tr>\n",
       "    <tr>\n",
       "      <th>11</th>\n",
       "      <td>S18_1889</td>\n",
       "      <td>1948 Porsche 356-A Roadster</td>\n",
       "      <td>8826</td>\n",
       "      <td>77.00</td>\n",
       "    </tr>\n",
       "  </tbody>\n",
       "</table>\n",
       "</div>"
      ],
      "text/plain": [
       "   productCode                       productName  quantityInStock    MSRP\n",
       "0     S12_2823                  2002 Suzuki XREO             9997  150.62\n",
       "1     S18_1984                  1995 Honda Civic             9772  142.25\n",
       "2    S700_2466    America West Airlines B757-200             9653   99.72\n",
       "3     S24_3432               2002 Chevy Corvette             9446  107.08\n",
       "4     S18_2325         1932 Model A Ford J-Coupe             9354  127.13\n",
       "5     S32_2206                 1982 Ducati 996 R             9241   40.23\n",
       "6     S24_3151  1912 Ford Model T Delivery Wagon             9173   88.51\n",
       "7     S18_3482             1976 Ford Gran Torino             9127  146.99\n",
       "8     S12_3380                1968 Dodge Charger             9123  117.44\n",
       "9     S18_1589             1965 Aston Martin DB5             9042  124.44\n",
       "10    S18_3685    1948 Porsche Type 356 Roadster             8990  141.28\n",
       "11    S18_1889       1948 Porsche 356-A Roadster             8826   77.00"
      ]
     },
     "execution_count": 11,
     "metadata": {},
     "output_type": "execute_result"
    }
   ],
   "source": [
    "# 1\n",
    "import pandas as pd\n",
    "from sqlalchemy import text\n",
    "\n",
    "top_products = pd.read_sql(\n",
    "    text(\"\"\"\n",
    "        SELECT productCode, productName, quantityInStock, MSRP\n",
    "        FROM products\n",
    "        ORDER BY quantityInStock DESC\n",
    "        LIMIT 12\n",
    "    \"\"\"),\n",
    "    engine\n",
    ")\n",
    "top_products\n"
   ]
  },
  {
   "cell_type": "code",
   "execution_count": 12,
   "metadata": {
    "execution": {
     "iopub.execute_input": "2025-08-24T15:09:04.582710Z",
     "iopub.status.busy": "2025-08-24T15:09:04.581316Z",
     "iopub.status.idle": "2025-08-24T15:09:04.637684Z",
     "shell.execute_reply": "2025-08-24T15:09:04.635331Z",
     "shell.execute_reply.started": "2025-08-24T15:09:04.582645Z"
    }
   },
   "outputs": [
    {
     "data": {
      "text/html": [
       "<div>\n",
       "<style scoped>\n",
       "    .dataframe tbody tr th:only-of-type {\n",
       "        vertical-align: middle;\n",
       "    }\n",
       "\n",
       "    .dataframe tbody tr th {\n",
       "        vertical-align: top;\n",
       "    }\n",
       "\n",
       "    .dataframe thead th {\n",
       "        text-align: right;\n",
       "    }\n",
       "</style>\n",
       "<table border=\"1\" class=\"dataframe\">\n",
       "  <thead>\n",
       "    <tr style=\"text-align: right;\">\n",
       "      <th></th>\n",
       "      <th>EXTRA</th>\n",
       "    </tr>\n",
       "  </thead>\n",
       "  <tbody>\n",
       "    <tr>\n",
       "      <th>0</th>\n",
       "      <td></td>\n",
       "    </tr>\n",
       "  </tbody>\n",
       "</table>\n",
       "</div>"
      ],
      "text/plain": [
       "  EXTRA\n",
       "0      "
      ]
     },
     "execution_count": 12,
     "metadata": {},
     "output_type": "execute_result"
    }
   ],
   "source": [
    "# 1b) Чи автоінкрементний orders.orderNumber?\n",
    "auto = pd.read_sql(\n",
    "    text(\"\"\"\n",
    "        SELECT EXTRA\n",
    "        FROM INFORMATION_SCHEMA.COLUMNS\n",
    "        WHERE TABLE_SCHEMA = DATABASE()\n",
    "          AND TABLE_NAME   = 'orders'\n",
    "          AND COLUMN_NAME  = 'orderNumber'\n",
    "    \"\"\"),\n",
    "    engine\n",
    ")\n",
    "auto\n"
   ]
  },
  {
   "cell_type": "code",
   "execution_count": 13,
   "metadata": {
    "execution": {
     "iopub.execute_input": "2025-08-24T15:13:49.692037Z",
     "iopub.status.busy": "2025-08-24T15:13:49.689025Z",
     "iopub.status.idle": "2025-08-24T15:13:49.722723Z",
     "shell.execute_reply": "2025-08-24T15:13:49.720794Z",
     "shell.execute_reply.started": "2025-08-24T15:13:49.690836Z"
    }
   },
   "outputs": [],
   "source": [
    "from sqlalchemy import text\n",
    "from datetime import date, timedelta\n",
    "\n",
    "def create_order(engine, customer_number: int, items: list[dict], comment: str | None = None) -> int:\n",
    "    \"\"\"\n",
    "    Створює нове замовлення для customer_number.\n",
    "    items = [{\"productCode\": \"S12_2823\", \"quantity\": 2}, ...]\n",
    "    Усе робиться в ОДНІЙ транзакції:\n",
    "      - перевіряємо клієнта\n",
    "      - блокуємо товари та перевіряємо залишки\n",
    "      - створюємо order\n",
    "      - додаємо orderdetails\n",
    "      - зменшуємо products.quantityInStock\n",
    "    Повертає orderNumber.\n",
    "    \"\"\"\n",
    "    if not items:\n",
    "        raise ValueError(\"Список items порожній\")\n",
    "\n",
    "    today = date.today()\n",
    "    required = today + timedelta(days=14)\n",
    "\n",
    "    with engine.begin() as conn:  # COMMIT/ROLLBACK автоматично\n",
    "        # 1) Перевірка клієнта (та легке блокування рядка)\n",
    "        cust = conn.execute(\n",
    "            text(\"SELECT customerNumber FROM customers WHERE customerNumber = :c FOR UPDATE\"),\n",
    "            {\"c\": customer_number}\n",
    "        ).fetchone()\n",
    "        if not cust:\n",
    "            raise ValueError(f\"Клієнт {customer_number} не знайдений\")\n",
    "\n",
    "        # 2) Перевіряємо товари та блокуємо їх\n",
    "        prod_info = {}\n",
    "        for it in items:\n",
    "            code = it[\"productCode\"]\n",
    "            qty  = int(it[\"quantity\"])\n",
    "            if qty <= 0:\n",
    "                raise ValueError(f\"Кількість для {code} має бути > 0\")\n",
    "\n",
    "            row = conn.execute(\n",
    "                text(\"\"\"SELECT productCode, productName, quantityInStock, MSRP\n",
    "                        FROM products\n",
    "                        WHERE productCode = :p\n",
    "                        FOR UPDATE\"\"\"),\n",
    "                {\"p\": code}\n",
    "            ).fetchone()\n",
    "            if not row:\n",
    "                raise ValueError(f\"Товар {code} не знайдений\")\n",
    "            if row.quantityInStock < qty:\n",
    "                raise RuntimeError(\n",
    "                    f\"Недостатньо {code} ({row.productName}): в наявності {row.quantityInStock}, потрібно {qty}\"\n",
    "                )\n",
    "            prod_info[code] = row\n",
    "\n",
    "        # 3) Новий номер замовлення (бо не AUTO_INCREMENT)\n",
    "        new_no = conn.execute(\n",
    "            text(\"SELECT COALESCE(MAX(orderNumber), 0) + 1 AS n FROM orders FOR UPDATE\")\n",
    "        ).scalar_one()\n",
    "\n",
    "        # 4) Вставляємо order\n",
    "        conn.execute(\n",
    "            text(\"\"\"INSERT INTO orders\n",
    "                    (orderNumber, orderDate, requiredDate, shippedDate, status, comments, customerNumber)\n",
    "                    VALUES (:no, :od, :rd, NULL, 'In Process', :cm, :cn)\"\"\"),\n",
    "            {\"no\": new_no, \"od\": today, \"rd\": required, \"cm\": comment, \"cn\": customer_number}\n",
    "        )\n",
    "\n",
    "        # 5) Додаємо позиції та зменшуємо склад\n",
    "        line_no = 1\n",
    "        for it in items:\n",
    "            code = it[\"productCode\"]\n",
    "            qty  = int(it[\"quantity\"])\n",
    "            msrp = prod_info[code].MSRP  # ціна: беремо MSRP (можеш замінити логіку ціни за потреби)\n",
    "\n",
    "            conn.execute(\n",
    "                text(\"\"\"INSERT INTO orderdetails\n",
    "                        (orderNumber, productCode, quantityOrdered, priceEach, orderLineNumber)\n",
    "                        VALUES (:no, :pc, :q, :price, :ln)\"\"\"),\n",
    "                {\"no\": new_no, \"pc\": code, \"q\": qty, \"price\": msrp, \"ln\": line_no}\n",
    "            )\n",
    "\n",
    "            conn.execute(\n",
    "                text(\"\"\"UPDATE products\n",
    "                        SET quantityInStock = quantityInStock - :q\n",
    "                        WHERE productCode = :pc\"\"\"),\n",
    "                {\"q\": qty, \"pc\": code}\n",
    "            )\n",
    "            line_no += 1\n",
    "\n",
    "    print(f\"✅ Замовлення {new_no} створено для клієнта {customer_number}\")\n",
    "    return new_no\n"
   ]
  },
  {
   "cell_type": "code",
   "execution_count": 14,
   "metadata": {
    "execution": {
     "iopub.execute_input": "2025-08-24T15:15:04.986938Z",
     "iopub.status.busy": "2025-08-24T15:15:04.985897Z",
     "iopub.status.idle": "2025-08-24T15:15:05.100329Z",
     "shell.execute_reply": "2025-08-24T15:15:05.099616Z",
     "shell.execute_reply.started": "2025-08-24T15:15:04.986877Z"
    }
   },
   "outputs": [
    {
     "data": {
      "text/html": [
       "<div>\n",
       "<style scoped>\n",
       "    .dataframe tbody tr th:only-of-type {\n",
       "        vertical-align: middle;\n",
       "    }\n",
       "\n",
       "    .dataframe tbody tr th {\n",
       "        vertical-align: top;\n",
       "    }\n",
       "\n",
       "    .dataframe thead th {\n",
       "        text-align: right;\n",
       "    }\n",
       "</style>\n",
       "<table border=\"1\" class=\"dataframe\">\n",
       "  <thead>\n",
       "    <tr style=\"text-align: right;\">\n",
       "      <th></th>\n",
       "      <th>productCode</th>\n",
       "      <th>productName</th>\n",
       "      <th>quantityInStock</th>\n",
       "      <th>MSRP</th>\n",
       "    </tr>\n",
       "  </thead>\n",
       "  <tbody>\n",
       "    <tr>\n",
       "      <th>0</th>\n",
       "      <td>S12_2823</td>\n",
       "      <td>2002 Suzuki XREO</td>\n",
       "      <td>9997</td>\n",
       "      <td>150.62</td>\n",
       "    </tr>\n",
       "    <tr>\n",
       "      <th>1</th>\n",
       "      <td>S18_1984</td>\n",
       "      <td>1995 Honda Civic</td>\n",
       "      <td>9772</td>\n",
       "      <td>142.25</td>\n",
       "    </tr>\n",
       "  </tbody>\n",
       "</table>\n",
       "</div>"
      ],
      "text/plain": [
       "  productCode       productName  quantityInStock    MSRP\n",
       "0    S12_2823  2002 Suzuki XREO             9997  150.62\n",
       "1    S18_1984  1995 Honda Civic             9772  142.25"
      ]
     },
     "execution_count": 14,
     "metadata": {},
     "output_type": "execute_result"
    }
   ],
   "source": [
    "# 3a) Перевіримо початкові залишки саме для цих двох кодів\n",
    "from sqlalchemy import text\n",
    "import pandas as pd\n",
    "\n",
    "codes = [\"S12_2823\", \"S18_1984\"]\n",
    "\n",
    "start_stock = pd.read_sql(\n",
    "    text(\"\"\"\n",
    "        SELECT productCode, productName, quantityInStock, MSRP\n",
    "        FROM products\n",
    "        WHERE productCode IN (:c1, :c2)\n",
    "        ORDER BY productCode\n",
    "    \"\"\"),\n",
    "    engine, params={\"c1\": codes[0], \"c2\": codes[1]}\n",
    ")\n",
    "start_stock\n"
   ]
  },
  {
   "cell_type": "code",
   "execution_count": 15,
   "metadata": {
    "execution": {
     "iopub.execute_input": "2025-08-24T15:15:18.197071Z",
     "iopub.status.busy": "2025-08-24T15:15:18.195496Z",
     "iopub.status.idle": "2025-08-24T15:15:18.394050Z",
     "shell.execute_reply": "2025-08-24T15:15:18.393774Z",
     "shell.execute_reply.started": "2025-08-24T15:15:18.196983Z"
    }
   },
   "outputs": [
    {
     "name": "stdout",
     "output_type": "stream",
     "text": [
      "✅ Замовлення 10426 створено для клієнта 103\n"
     ]
    },
    {
     "data": {
      "text/plain": [
       "10426"
      ]
     },
     "execution_count": 15,
     "metadata": {},
     "output_type": "execute_result"
    }
   ],
   "source": [
    "# 3b) Викликаємо функцію створення замовлення\n",
    "order_no = create_order(\n",
    "    engine,\n",
    "    customer_number=103,\n",
    "    items=[\n",
    "        {\"productCode\": \"S12_2823\", \"quantity\": 2},   # кількість можна змінити за бажанням\n",
    "        {\"productCode\": \"S18_1984\", \"quantity\": 3},\n",
    "    ],\n",
    "    comment=\"Test order from Jupyter\"\n",
    ")\n",
    "order_no\n"
   ]
  },
  {
   "cell_type": "code",
   "execution_count": 16,
   "metadata": {
    "execution": {
     "iopub.execute_input": "2025-08-24T15:15:37.303324Z",
     "iopub.status.busy": "2025-08-24T15:15:37.301636Z",
     "iopub.status.idle": "2025-08-24T15:15:37.388717Z",
     "shell.execute_reply": "2025-08-24T15:15:37.388330Z",
     "shell.execute_reply.started": "2025-08-24T15:15:37.303249Z"
    }
   },
   "outputs": [
    {
     "data": {
      "text/html": [
       "<div>\n",
       "<style scoped>\n",
       "    .dataframe tbody tr th:only-of-type {\n",
       "        vertical-align: middle;\n",
       "    }\n",
       "\n",
       "    .dataframe tbody tr th {\n",
       "        vertical-align: top;\n",
       "    }\n",
       "\n",
       "    .dataframe thead th {\n",
       "        text-align: right;\n",
       "    }\n",
       "</style>\n",
       "<table border=\"1\" class=\"dataframe\">\n",
       "  <thead>\n",
       "    <tr style=\"text-align: right;\">\n",
       "      <th></th>\n",
       "      <th>orderNumber</th>\n",
       "      <th>orderDate</th>\n",
       "      <th>requiredDate</th>\n",
       "      <th>status</th>\n",
       "      <th>comments</th>\n",
       "      <th>customerNumber</th>\n",
       "    </tr>\n",
       "  </thead>\n",
       "  <tbody>\n",
       "    <tr>\n",
       "      <th>0</th>\n",
       "      <td>10426</td>\n",
       "      <td>2025-08-24</td>\n",
       "      <td>2025-09-07</td>\n",
       "      <td>In Process</td>\n",
       "      <td>Test order from Jupyter</td>\n",
       "      <td>103</td>\n",
       "    </tr>\n",
       "  </tbody>\n",
       "</table>\n",
       "</div>"
      ],
      "text/plain": [
       "   orderNumber   orderDate requiredDate      status                 comments  \\\n",
       "0        10426  2025-08-24   2025-09-07  In Process  Test order from Jupyter   \n",
       "\n",
       "   customerNumber  \n",
       "0             103  "
      ]
     },
     "metadata": {},
     "output_type": "display_data"
    },
    {
     "data": {
      "text/html": [
       "<div>\n",
       "<style scoped>\n",
       "    .dataframe tbody tr th:only-of-type {\n",
       "        vertical-align: middle;\n",
       "    }\n",
       "\n",
       "    .dataframe tbody tr th {\n",
       "        vertical-align: top;\n",
       "    }\n",
       "\n",
       "    .dataframe thead th {\n",
       "        text-align: right;\n",
       "    }\n",
       "</style>\n",
       "<table border=\"1\" class=\"dataframe\">\n",
       "  <thead>\n",
       "    <tr style=\"text-align: right;\">\n",
       "      <th></th>\n",
       "      <th>orderNumber</th>\n",
       "      <th>productCode</th>\n",
       "      <th>productName</th>\n",
       "      <th>quantityOrdered</th>\n",
       "      <th>priceEach</th>\n",
       "      <th>orderLineNumber</th>\n",
       "    </tr>\n",
       "  </thead>\n",
       "  <tbody>\n",
       "    <tr>\n",
       "      <th>0</th>\n",
       "      <td>10426</td>\n",
       "      <td>S12_2823</td>\n",
       "      <td>2002 Suzuki XREO</td>\n",
       "      <td>2</td>\n",
       "      <td>150.62</td>\n",
       "      <td>1</td>\n",
       "    </tr>\n",
       "    <tr>\n",
       "      <th>1</th>\n",
       "      <td>10426</td>\n",
       "      <td>S18_1984</td>\n",
       "      <td>1995 Honda Civic</td>\n",
       "      <td>3</td>\n",
       "      <td>142.25</td>\n",
       "      <td>2</td>\n",
       "    </tr>\n",
       "  </tbody>\n",
       "</table>\n",
       "</div>"
      ],
      "text/plain": [
       "   orderNumber productCode       productName  quantityOrdered  priceEach  \\\n",
       "0        10426    S12_2823  2002 Suzuki XREO                2     150.62   \n",
       "1        10426    S18_1984  1995 Honda Civic                3     142.25   \n",
       "\n",
       "   orderLineNumber  \n",
       "0                1  \n",
       "1                2  "
      ]
     },
     "metadata": {},
     "output_type": "display_data"
    },
    {
     "data": {
      "text/html": [
       "<div>\n",
       "<style scoped>\n",
       "    .dataframe tbody tr th:only-of-type {\n",
       "        vertical-align: middle;\n",
       "    }\n",
       "\n",
       "    .dataframe tbody tr th {\n",
       "        vertical-align: top;\n",
       "    }\n",
       "\n",
       "    .dataframe thead th {\n",
       "        text-align: right;\n",
       "    }\n",
       "</style>\n",
       "<table border=\"1\" class=\"dataframe\">\n",
       "  <thead>\n",
       "    <tr style=\"text-align: right;\">\n",
       "      <th></th>\n",
       "      <th>productCode</th>\n",
       "      <th>productName</th>\n",
       "      <th>quantityInStock</th>\n",
       "    </tr>\n",
       "  </thead>\n",
       "  <tbody>\n",
       "    <tr>\n",
       "      <th>0</th>\n",
       "      <td>S12_2823</td>\n",
       "      <td>2002 Suzuki XREO</td>\n",
       "      <td>9995</td>\n",
       "    </tr>\n",
       "    <tr>\n",
       "      <th>1</th>\n",
       "      <td>S18_1984</td>\n",
       "      <td>1995 Honda Civic</td>\n",
       "      <td>9769</td>\n",
       "    </tr>\n",
       "  </tbody>\n",
       "</table>\n",
       "</div>"
      ],
      "text/plain": [
       "  productCode       productName  quantityInStock\n",
       "0    S12_2823  2002 Suzuki XREO             9995\n",
       "1    S18_1984  1995 Honda Civic             9769"
      ]
     },
     "metadata": {},
     "output_type": "display_data"
    }
   ],
   "source": [
    "# 3c) Перевіряємо результат: шапка замовлення, позиції і нові залишки\n",
    "# 1) шапка\n",
    "hdr = pd.read_sql(\n",
    "    text(\"\"\"SELECT orderNumber, orderDate, requiredDate, status, comments, customerNumber\n",
    "            FROM orders WHERE orderNumber = :no\"\"\"),\n",
    "    engine, params={\"no\": order_no}\n",
    ")\n",
    "display(hdr)\n",
    "\n",
    "# 2) позиції\n",
    "lines = pd.read_sql(\n",
    "    text(\"\"\"SELECT d.orderNumber, d.productCode, p.productName,\n",
    "                   d.quantityOrdered, d.priceEach, d.orderLineNumber\n",
    "            FROM orderdetails d\n",
    "            JOIN products p USING(productCode)\n",
    "            WHERE d.orderNumber = :no\n",
    "            ORDER BY d.orderLineNumber\"\"\"),\n",
    "    engine, params={\"no\": order_no}\n",
    ")\n",
    "display(lines)\n",
    "\n",
    "# 3) нові залишки по цих товарах\n",
    "end_stock = pd.read_sql(\n",
    "    text(\"\"\"\n",
    "        SELECT productCode, productName, quantityInStock\n",
    "        FROM products\n",
    "        WHERE productCode IN (:c1, :c2)\n",
    "        ORDER BY productCode\n",
    "    \"\"\"),\n",
    "    engine, params={\"c1\": codes[0], \"c2\": codes[1]}\n",
    ")\n",
    "display(end_stock)\n"
   ]
  },
  {
   "cell_type": "code",
   "execution_count": 17,
   "metadata": {
    "execution": {
     "iopub.execute_input": "2025-08-24T15:17:09.254614Z",
     "iopub.status.busy": "2025-08-24T15:17:09.252189Z",
     "iopub.status.idle": "2025-08-24T15:17:09.320988Z",
     "shell.execute_reply": "2025-08-24T15:17:09.308343Z",
     "shell.execute_reply.started": "2025-08-24T15:17:09.254407Z"
    }
   },
   "outputs": [
    {
     "data": {
      "text/html": [
       "<div>\n",
       "<style scoped>\n",
       "    .dataframe tbody tr th:only-of-type {\n",
       "        vertical-align: middle;\n",
       "    }\n",
       "\n",
       "    .dataframe tbody tr th {\n",
       "        vertical-align: top;\n",
       "    }\n",
       "\n",
       "    .dataframe thead th {\n",
       "        text-align: right;\n",
       "    }\n",
       "</style>\n",
       "<table border=\"1\" class=\"dataframe\">\n",
       "  <thead>\n",
       "    <tr style=\"text-align: right;\">\n",
       "      <th></th>\n",
       "      <th>orderNumber</th>\n",
       "      <th>order_total</th>\n",
       "    </tr>\n",
       "  </thead>\n",
       "  <tbody>\n",
       "    <tr>\n",
       "      <th>0</th>\n",
       "      <td>10426</td>\n",
       "      <td>727.99</td>\n",
       "    </tr>\n",
       "  </tbody>\n",
       "</table>\n",
       "</div>"
      ],
      "text/plain": [
       "   orderNumber  order_total\n",
       "0        10426       727.99"
      ]
     },
     "execution_count": 17,
     "metadata": {},
     "output_type": "execute_result"
    }
   ],
   "source": [
    "# перевіряємо загальну суму замовленб\n",
    "\n",
    "from sqlalchemy import text\n",
    "import pandas as pd\n",
    "\n",
    "pd.read_sql(\n",
    "    text(\"\"\"\n",
    "        SELECT d.orderNumber,\n",
    "               SUM(d.quantityOrdered * d.priceEach) AS order_total\n",
    "        FROM orderdetails d\n",
    "        WHERE d.orderNumber = :no\n",
    "    \"\"\"),\n",
    "    engine, params={\"no\": 10426}\n",
    ")\n"
   ]
  },
  {
   "cell_type": "code",
   "execution_count": null,
   "metadata": {},
   "outputs": [],
   "source": []
  }
 ],
 "metadata": {
  "colab": {
   "provenance": []
  },
  "kernelspec": {
   "display_name": "Python 3 (ipykernel)",
   "language": "python",
   "name": "python3"
  },
  "language_info": {
   "codemirror_mode": {
    "name": "ipython",
    "version": 3
   },
   "file_extension": ".py",
   "mimetype": "text/x-python",
   "name": "python",
   "nbconvert_exporter": "python",
   "pygments_lexer": "ipython3",
   "version": "3.12.7"
  }
 },
 "nbformat": 4,
 "nbformat_minor": 4
}
