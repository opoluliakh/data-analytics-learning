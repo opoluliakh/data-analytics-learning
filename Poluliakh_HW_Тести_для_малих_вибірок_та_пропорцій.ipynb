{
  "cells": [
    {
      "cell_type": "markdown",
      "metadata": {
        "id": "view-in-github",
        "colab_type": "text"
      },
      "source": [
        "<a href=\"https://colab.research.google.com/github/opoluliakh/data-analytics-learning/blob/main/Poluliakh_HW_%D0%A2%D0%B5%D1%81%D1%82%D0%B8_%D0%B4%D0%BB%D1%8F_%D0%BC%D0%B0%D0%BB%D0%B8%D1%85_%D0%B2%D0%B8%D0%B1%D1%96%D1%80%D0%BE%D0%BA_%D1%82%D0%B0_%D0%BF%D1%80%D0%BE%D0%BF%D0%BE%D1%80%D1%86%D1%96%D0%B9.ipynb\" target=\"_parent\"><img src=\"https://colab.research.google.com/assets/colab-badge.svg\" alt=\"Open In Colab\"/></a>"
      ]
    },
    {
      "cell_type": "markdown",
      "id": "e152f6d6",
      "metadata": {
        "ExecuteTime": {
          "end_time": "2022-12-10T14:29:24.703416Z",
          "start_time": "2022-12-10T14:29:24.688485Z"
        },
        "id": "e152f6d6"
      },
      "source": [
        "# Тести для малих вибірок та пропорцій\n",
        "\n"
      ]
    },
    {
      "cell_type": "markdown",
      "id": "abdcef5d",
      "metadata": {
        "id": "abdcef5d"
      },
      "source": [
        "**Завдання 1**. E-commerce компанія після редизайну сайту підозрює, що **середній час до покупки (time-to-purchase)** користувачів **збільшився**.\n",
        "Історично середній час від першого заходу на сайт до покупки становив $\\mu_0 = 123.7$ хвилин.\n",
        "\n",
        "Команда аналітиків випадково обрала дані **7 покупців після редизайну**:\n",
        "`128, 135, 121, 142, 126, 151, 123`\n",
        "\n",
        "З допомогою наявних даних зʼясуйте, чи збільшився середній час покупки після редизайну.\n",
        "\n",
        "Для цього виконайте наступні 6 кроків. Правильне виконання кожного з кроків оцінюється в 1 бал.\n",
        "\n",
        "1. Запишіть нульову та альтернативну гіпотези і визначте тип тесту.\n",
        "2. Обчисліть вибіркові статистики: $\\bar x$, $s$, $n$.\n",
        "3. Оберіть тип тесту та виконайте його (знайдіть критичне значення тесту, статистику тесту та р-значення) будь-яким пасуючим способом, щоб перевірити гіпотезу на рівні значущості $\\alpha = 0.10$.\n",
        "4. Прийміть рішення, чи відхиляєте ви гіпотезу $H_0$ використовуючи p-value.\n",
        "5. Напишіть висновок: чи справді редизайн сайту подовжив час до покупки?\n",
        "6. Чи зміниться ваше рішення при зміні рівня значущості на $\\alpha = 0.05$.\n"
      ]
    },
    {
      "cell_type": "markdown",
      "source": [
        "## Завдання 1. Чи збільшився середній час до покупки після редизайну?\n",
        "\n",
        "**Умова:**  \n",
        "Історично: $\\mu_0 = 123.7$ хв  \n",
        "Дані після редизайну: [128, 135, 121, 142, 126, 151, 123]  \n",
        "$n = 7$ (мала вибірка)  \n",
        "Рівень значущості: $\\alpha = 0.10$  \n",
        "\n",
        "\n",
        "### 1. Формулювання гіпотез\n",
        "$H_0: \\mu = 123.7$  \n",
        "$H_a: \\mu > 123.7$  \n",
        "Тип тесту: **правосторонній (one-sample t-test)**  \n",
        "\n"
      ],
      "metadata": {
        "id": "T2CvAzAOknBq"
      },
      "id": "T2CvAzAOknBq"
    },
    {
      "cell_type": "code",
      "source": [
        "import numpy as np\n",
        "from scipy import stats\n",
        "\n",
        "sample = np.array([128, 135, 121, 142, 126, 151, 123])\n",
        "\n",
        "mu0 = 123.7\n",
        "alpha1 = 0.10\n",
        "alpha2 = 0.05\n",
        "\n",
        "x_bar = np.mean(sample)\n",
        "s = np.std(sample, ddof=1)\n",
        "n = len(sample)\n",
        "\n",
        "(x_bar, s, n)\n"
      ],
      "metadata": {
        "colab": {
          "base_uri": "https://localhost:8080/"
        },
        "id": "MFylzYPxkstt",
        "outputId": "33823e1f-aa86-4272-b48c-63833a7e8698"
      },
      "id": "MFylzYPxkstt",
      "execution_count": 1,
      "outputs": [
        {
          "output_type": "execute_result",
          "data": {
            "text/plain": [
              "(np.float64(132.28571428571428), np.float64(10.980502200328935), 7)"
            ]
          },
          "metadata": {},
          "execution_count": 1
        }
      ]
    },
    {
      "cell_type": "code",
      "source": [
        "# t-статистика вручну\n",
        "t_stat = (x_bar - mu0) / (s / np.sqrt(n))\n",
        "\n",
        "# критичне значення для правостороннього тесту (df = n-1)\n",
        "t_crit_1 = stats.t.ppf(1 - alpha1, df=n-1)\n",
        "t_crit_2 = stats.t.ppf(1 - alpha2, df=n-1)\n",
        "\n",
        "# p-value\n",
        "p_value = 1 - stats.t.cdf(t_stat, df=n-1)\n",
        "\n",
        "t_stat, t_crit_1, t_crit_2, p_value\n"
      ],
      "metadata": {
        "id": "BcS4cm11QYpT",
        "colab": {
          "base_uri": "https://localhost:8080/"
        },
        "outputId": "b9f0bbc0-d990-41a4-fd16-a388319f8c5f"
      },
      "id": "BcS4cm11QYpT",
      "execution_count": 2,
      "outputs": [
        {
          "output_type": "execute_result",
          "data": {
            "text/plain": [
              "(np.float64(2.0687273144186475),\n",
              " np.float64(1.4397557472577693),\n",
              " np.float64(1.9431802805153022),\n",
              " np.float64(0.042017654253682646))"
            ]
          },
          "metadata": {},
          "execution_count": 2
        }
      ]
    },
    {
      "cell_type": "code",
      "source": [
        "for alpha, t_crit in [(alpha1, t_crit_1), (alpha2, t_crit_2)]:\n",
        "    if (t_stat >= t_crit) and (p_value < alpha):\n",
        "        print(f\"α={alpha}: Відхиляємо H0 → час до покупки зріс.\")\n",
        "    else:\n",
        "        print(f\"α={alpha}: Не відхиляємо H0 → доказів збільшення недостатньо.\")\n"
      ],
      "metadata": {
        "colab": {
          "base_uri": "https://localhost:8080/"
        },
        "id": "MtVOl_5HlBPf",
        "outputId": "4b1cc233-62e4-48c9-e66c-f3b59c32e0af"
      },
      "id": "MtVOl_5HlBPf",
      "execution_count": 3,
      "outputs": [
        {
          "output_type": "stream",
          "name": "stdout",
          "text": [
            "α=0.1: Відхиляємо H0 → час до покупки зріс.\n",
            "α=0.05: Відхиляємо H0 → час до покупки зріс.\n"
          ]
        }
      ]
    },
    {
      "cell_type": "markdown",
      "source": [
        "**Завдання 2.**\n",
        "\n",
        "До спеціальної рекламної кампанії **23%** дорослих упізнавали логотип компанії. Після завершення кампанії відділ маркетингу провів опитування: з **1200** випадково відібраних дорослих **311** упізнали логотип.\n",
        "\n",
        "Перевірте на рівні значущості **3%** ($\\alpha=0.03$), чи дають ці дані достатні підстави стверджувати, що **тепер більше ніж 23%** дорослих упізнають логотип компанії. Для розвʼязку використовуйте бібліотеку `statsmodels`.\n",
        "\n",
        "Зробіть висновок, чи зросла впізнаваність логотипу.\n",
        "\n",
        "Додатково, обчисліть довірчий інтревал на заданому рівні значущості і проінтерпретуйте текстом - як він додатково пояснює прийняте нами рішення?"
      ],
      "metadata": {
        "id": "5govLcx8FPSl"
      },
      "id": "5govLcx8FPSl"
    },
    {
      "cell_type": "markdown",
      "source": [
        "## Завдання 2. Чи зросла впізнаваність логотипу?\n",
        "\n",
        "До кампанії: \\(p_0 = 0.23\\)  \n",
        "Після кампанії: \\(n=1200\\), успіхів \\(x=311\\) → \\(\\hat p = x/n\\)  \n",
        "Рівень значущості: \\(\\alpha = 0.03\\)  \n",
        "Гіпотези:  \n",
        "  - \\(H_0: p = 0.23\\)  \n",
        "  - \\(H_a: p > 0.23\\)  (правосторонній тест)\n"
      ],
      "metadata": {
        "id": "2qxusAGpmctv"
      },
      "id": "2qxusAGpmctv"
    },
    {
      "cell_type": "code",
      "source": [
        "from statsmodels.stats.proportion import proportions_ztest, proportion_confint\n",
        "\n",
        "x = 311\n",
        "n = 1200\n",
        "p0 = 0.23\n",
        "alpha = 0.03\n",
        "\n",
        "# 1) Z-test для пропорції (правосторонній)\n",
        "z_stat, p_value = proportions_ztest(count=x, nobs=n, value=p0, alternative=\"larger\")\n",
        "p_hat = x / n\n",
        "\n",
        "print(f\"p̂ = {p_hat:.6f}\")\n",
        "print(f\"Z = {z_stat:.4f}\")\n",
        "print(f\"p-value = {p_value:.5f}\")\n",
        "\n",
        "# 2) Довірчий інтервал для p на рівні 1-α = 97%  (візьмемо Wilson — стійкіший)\n",
        "ci_low, ci_high = proportion_confint(count=x, nobs=n, alpha=alpha, method=\"wilson\")\n",
        "print(f\"97% CI (Wilson): [{ci_low:.4f}, {ci_high:.4f}]\")\n"
      ],
      "metadata": {
        "id": "rcplRfotId51",
        "colab": {
          "base_uri": "https://localhost:8080/"
        },
        "outputId": "38ca8652-96c2-471d-ef84-62e58587ef5f"
      },
      "id": "rcplRfotId51",
      "execution_count": 4,
      "outputs": [
        {
          "output_type": "stream",
          "name": "stdout",
          "text": [
            "p̂ = 0.259167\n",
            "Z = 2.3058\n",
            "p-value = 0.01056\n",
            "97% CI (Wilson): [0.2327, 0.2875]\n"
          ]
        }
      ]
    },
    {
      "cell_type": "markdown",
      "source": [
        "### Висновок\n",
        "На рівні значущості α = 0.03 ми отримали p-value = 0.0106 < 0.03, тому відхиляємо нульову гіпотезу.  \n",
        "Маємо достатньо доказів, що після рекламної кампанії впізнаваність логотипу ** зросла** (частка > 23%).  \n",
        "Додатково 97% довірчий інтервал [0.233; 0.288] підтверджує висновок, адже повністю лежить вище 0.23.\n"
      ],
      "metadata": {
        "id": "UU5ROy5mm1ft"
      },
      "id": "UU5ROy5mm1ft"
    },
    {
      "cell_type": "markdown",
      "source": [],
      "metadata": {
        "id": "AJj4Q7dom8Rf"
      },
      "id": "AJj4Q7dom8Rf"
    }
  ],
  "metadata": {
    "hide_input": false,
    "kernelspec": {
      "display_name": "Python 3 (ipykernel)",
      "language": "python",
      "name": "python3"
    },
    "language_info": {
      "codemirror_mode": {
        "name": "ipython",
        "version": 3
      },
      "file_extension": ".py",
      "mimetype": "text/x-python",
      "name": "python",
      "nbconvert_exporter": "python",
      "pygments_lexer": "ipython3",
      "version": "3.11.3"
    },
    "toc": {
      "base_numbering": 1,
      "nav_menu": {},
      "number_sections": true,
      "sideBar": true,
      "skip_h1_title": false,
      "title_cell": "Table of Contents",
      "title_sidebar": "Contents",
      "toc_cell": false,
      "toc_position": {},
      "toc_section_display": true,
      "toc_window_display": false
    },
    "varInspector": {
      "cols": {
        "lenName": 16,
        "lenType": 16,
        "lenVar": 40
      },
      "kernels_config": {
        "python": {
          "delete_cmd_postfix": "",
          "delete_cmd_prefix": "del ",
          "library": "var_list.py",
          "varRefreshCmd": "print(var_dic_list())"
        },
        "r": {
          "delete_cmd_postfix": ") ",
          "delete_cmd_prefix": "rm(",
          "library": "var_list.r",
          "varRefreshCmd": "cat(var_dic_list()) "
        }
      },
      "types_to_exclude": [
        "module",
        "function",
        "builtin_function_or_method",
        "instance",
        "_Feature"
      ],
      "window_display": false
    },
    "colab": {
      "provenance": [],
      "include_colab_link": true
    }
  },
  "nbformat": 4,
  "nbformat_minor": 5
}