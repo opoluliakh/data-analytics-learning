{
  "cells": [
    {
      "cell_type": "markdown",
      "metadata": {
        "id": "view-in-github",
        "colab_type": "text"
      },
      "source": [
        "<a href=\"https://colab.research.google.com/github/opoluliakh/data-analytics-learning/blob/main/Poluliakh_HW_%D0%9F%D0%B5%D1%80%D0%B5%D0%B2%D1%96%D1%80%D0%BA%D0%B0_%D1%81%D1%82%D0%B0%D1%82%D0%B8c%D1%82%D0%B8%D1%87%D0%BD%D0%B8%D1%85_%D0%B3%D1%96%D0%BF%D0%BE%D1%82%D0%B5%D0%B7_Z_test.ipynb\" target=\"_parent\"><img src=\"https://colab.research.google.com/assets/colab-badge.svg\" alt=\"Open In Colab\"/></a>"
      ]
    },
    {
      "cell_type": "markdown",
      "id": "e152f6d6",
      "metadata": {
        "ExecuteTime": {
          "end_time": "2022-12-10T14:29:24.703416Z",
          "start_time": "2022-12-10T14:29:24.688485Z"
        },
        "id": "e152f6d6"
      },
      "source": [
        "#Перевірка статиcтичних гіпотез. Z-test.\n",
        "\n"
      ]
    },
    {
      "cell_type": "markdown",
      "id": "cd404683",
      "metadata": {
        "id": "cd404683"
      },
      "source": [
        "0. Зчитайте дані з `data.csv` у змінну data, яка має тип pandas.DataFrame. Ми будемо далі працювати з цією змінною."
      ]
    },
    {
      "cell_type": "code",
      "execution_count": 2,
      "id": "b20b6ba2",
      "metadata": {
        "id": "b20b6ba2",
        "colab": {
          "base_uri": "https://localhost:8080/",
          "height": 206
        },
        "outputId": "e2337e37-efa8-4b70-9393-c6be00cdb71e"
      },
      "outputs": [
        {
          "output_type": "execute_result",
          "data": {
            "text/plain": [
              "   Unnamed: 0       data\n",
              "0           0  17.499453\n",
              "1           1  19.662399\n",
              "2           2   7.182823\n",
              "3           3  29.841625\n",
              "4           4   9.239386"
            ],
            "text/html": [
              "\n",
              "  <div id=\"df-23817287-0714-4844-85a4-77af9c00cff8\" class=\"colab-df-container\">\n",
              "    <div>\n",
              "<style scoped>\n",
              "    .dataframe tbody tr th:only-of-type {\n",
              "        vertical-align: middle;\n",
              "    }\n",
              "\n",
              "    .dataframe tbody tr th {\n",
              "        vertical-align: top;\n",
              "    }\n",
              "\n",
              "    .dataframe thead th {\n",
              "        text-align: right;\n",
              "    }\n",
              "</style>\n",
              "<table border=\"1\" class=\"dataframe\">\n",
              "  <thead>\n",
              "    <tr style=\"text-align: right;\">\n",
              "      <th></th>\n",
              "      <th>Unnamed: 0</th>\n",
              "      <th>data</th>\n",
              "    </tr>\n",
              "  </thead>\n",
              "  <tbody>\n",
              "    <tr>\n",
              "      <th>0</th>\n",
              "      <td>0</td>\n",
              "      <td>17.499453</td>\n",
              "    </tr>\n",
              "    <tr>\n",
              "      <th>1</th>\n",
              "      <td>1</td>\n",
              "      <td>19.662399</td>\n",
              "    </tr>\n",
              "    <tr>\n",
              "      <th>2</th>\n",
              "      <td>2</td>\n",
              "      <td>7.182823</td>\n",
              "    </tr>\n",
              "    <tr>\n",
              "      <th>3</th>\n",
              "      <td>3</td>\n",
              "      <td>29.841625</td>\n",
              "    </tr>\n",
              "    <tr>\n",
              "      <th>4</th>\n",
              "      <td>4</td>\n",
              "      <td>9.239386</td>\n",
              "    </tr>\n",
              "  </tbody>\n",
              "</table>\n",
              "</div>\n",
              "    <div class=\"colab-df-buttons\">\n",
              "\n",
              "  <div class=\"colab-df-container\">\n",
              "    <button class=\"colab-df-convert\" onclick=\"convertToInteractive('df-23817287-0714-4844-85a4-77af9c00cff8')\"\n",
              "            title=\"Convert this dataframe to an interactive table.\"\n",
              "            style=\"display:none;\">\n",
              "\n",
              "  <svg xmlns=\"http://www.w3.org/2000/svg\" height=\"24px\" viewBox=\"0 -960 960 960\">\n",
              "    <path d=\"M120-120v-720h720v720H120Zm60-500h600v-160H180v160Zm220 220h160v-160H400v160Zm0 220h160v-160H400v160ZM180-400h160v-160H180v160Zm440 0h160v-160H620v160ZM180-180h160v-160H180v160Zm440 0h160v-160H620v160Z\"/>\n",
              "  </svg>\n",
              "    </button>\n",
              "\n",
              "  <style>\n",
              "    .colab-df-container {\n",
              "      display:flex;\n",
              "      gap: 12px;\n",
              "    }\n",
              "\n",
              "    .colab-df-convert {\n",
              "      background-color: #E8F0FE;\n",
              "      border: none;\n",
              "      border-radius: 50%;\n",
              "      cursor: pointer;\n",
              "      display: none;\n",
              "      fill: #1967D2;\n",
              "      height: 32px;\n",
              "      padding: 0 0 0 0;\n",
              "      width: 32px;\n",
              "    }\n",
              "\n",
              "    .colab-df-convert:hover {\n",
              "      background-color: #E2EBFA;\n",
              "      box-shadow: 0px 1px 2px rgba(60, 64, 67, 0.3), 0px 1px 3px 1px rgba(60, 64, 67, 0.15);\n",
              "      fill: #174EA6;\n",
              "    }\n",
              "\n",
              "    .colab-df-buttons div {\n",
              "      margin-bottom: 4px;\n",
              "    }\n",
              "\n",
              "    [theme=dark] .colab-df-convert {\n",
              "      background-color: #3B4455;\n",
              "      fill: #D2E3FC;\n",
              "    }\n",
              "\n",
              "    [theme=dark] .colab-df-convert:hover {\n",
              "      background-color: #434B5C;\n",
              "      box-shadow: 0px 1px 3px 1px rgba(0, 0, 0, 0.15);\n",
              "      filter: drop-shadow(0px 1px 2px rgba(0, 0, 0, 0.3));\n",
              "      fill: #FFFFFF;\n",
              "    }\n",
              "  </style>\n",
              "\n",
              "    <script>\n",
              "      const buttonEl =\n",
              "        document.querySelector('#df-23817287-0714-4844-85a4-77af9c00cff8 button.colab-df-convert');\n",
              "      buttonEl.style.display =\n",
              "        google.colab.kernel.accessAllowed ? 'block' : 'none';\n",
              "\n",
              "      async function convertToInteractive(key) {\n",
              "        const element = document.querySelector('#df-23817287-0714-4844-85a4-77af9c00cff8');\n",
              "        const dataTable =\n",
              "          await google.colab.kernel.invokeFunction('convertToInteractive',\n",
              "                                                    [key], {});\n",
              "        if (!dataTable) return;\n",
              "\n",
              "        const docLinkHtml = 'Like what you see? Visit the ' +\n",
              "          '<a target=\"_blank\" href=https://colab.research.google.com/notebooks/data_table.ipynb>data table notebook</a>'\n",
              "          + ' to learn more about interactive tables.';\n",
              "        element.innerHTML = '';\n",
              "        dataTable['output_type'] = 'display_data';\n",
              "        await google.colab.output.renderOutput(dataTable, element);\n",
              "        const docLink = document.createElement('div');\n",
              "        docLink.innerHTML = docLinkHtml;\n",
              "        element.appendChild(docLink);\n",
              "      }\n",
              "    </script>\n",
              "  </div>\n",
              "\n",
              "\n",
              "    <div id=\"df-3b3daf62-682b-4ff9-9140-b4c18d86c126\">\n",
              "      <button class=\"colab-df-quickchart\" onclick=\"quickchart('df-3b3daf62-682b-4ff9-9140-b4c18d86c126')\"\n",
              "                title=\"Suggest charts\"\n",
              "                style=\"display:none;\">\n",
              "\n",
              "<svg xmlns=\"http://www.w3.org/2000/svg\" height=\"24px\"viewBox=\"0 0 24 24\"\n",
              "     width=\"24px\">\n",
              "    <g>\n",
              "        <path d=\"M19 3H5c-1.1 0-2 .9-2 2v14c0 1.1.9 2 2 2h14c1.1 0 2-.9 2-2V5c0-1.1-.9-2-2-2zM9 17H7v-7h2v7zm4 0h-2V7h2v10zm4 0h-2v-4h2v4z\"/>\n",
              "    </g>\n",
              "</svg>\n",
              "      </button>\n",
              "\n",
              "<style>\n",
              "  .colab-df-quickchart {\n",
              "      --bg-color: #E8F0FE;\n",
              "      --fill-color: #1967D2;\n",
              "      --hover-bg-color: #E2EBFA;\n",
              "      --hover-fill-color: #174EA6;\n",
              "      --disabled-fill-color: #AAA;\n",
              "      --disabled-bg-color: #DDD;\n",
              "  }\n",
              "\n",
              "  [theme=dark] .colab-df-quickchart {\n",
              "      --bg-color: #3B4455;\n",
              "      --fill-color: #D2E3FC;\n",
              "      --hover-bg-color: #434B5C;\n",
              "      --hover-fill-color: #FFFFFF;\n",
              "      --disabled-bg-color: #3B4455;\n",
              "      --disabled-fill-color: #666;\n",
              "  }\n",
              "\n",
              "  .colab-df-quickchart {\n",
              "    background-color: var(--bg-color);\n",
              "    border: none;\n",
              "    border-radius: 50%;\n",
              "    cursor: pointer;\n",
              "    display: none;\n",
              "    fill: var(--fill-color);\n",
              "    height: 32px;\n",
              "    padding: 0;\n",
              "    width: 32px;\n",
              "  }\n",
              "\n",
              "  .colab-df-quickchart:hover {\n",
              "    background-color: var(--hover-bg-color);\n",
              "    box-shadow: 0 1px 2px rgba(60, 64, 67, 0.3), 0 1px 3px 1px rgba(60, 64, 67, 0.15);\n",
              "    fill: var(--button-hover-fill-color);\n",
              "  }\n",
              "\n",
              "  .colab-df-quickchart-complete:disabled,\n",
              "  .colab-df-quickchart-complete:disabled:hover {\n",
              "    background-color: var(--disabled-bg-color);\n",
              "    fill: var(--disabled-fill-color);\n",
              "    box-shadow: none;\n",
              "  }\n",
              "\n",
              "  .colab-df-spinner {\n",
              "    border: 2px solid var(--fill-color);\n",
              "    border-color: transparent;\n",
              "    border-bottom-color: var(--fill-color);\n",
              "    animation:\n",
              "      spin 1s steps(1) infinite;\n",
              "  }\n",
              "\n",
              "  @keyframes spin {\n",
              "    0% {\n",
              "      border-color: transparent;\n",
              "      border-bottom-color: var(--fill-color);\n",
              "      border-left-color: var(--fill-color);\n",
              "    }\n",
              "    20% {\n",
              "      border-color: transparent;\n",
              "      border-left-color: var(--fill-color);\n",
              "      border-top-color: var(--fill-color);\n",
              "    }\n",
              "    30% {\n",
              "      border-color: transparent;\n",
              "      border-left-color: var(--fill-color);\n",
              "      border-top-color: var(--fill-color);\n",
              "      border-right-color: var(--fill-color);\n",
              "    }\n",
              "    40% {\n",
              "      border-color: transparent;\n",
              "      border-right-color: var(--fill-color);\n",
              "      border-top-color: var(--fill-color);\n",
              "    }\n",
              "    60% {\n",
              "      border-color: transparent;\n",
              "      border-right-color: var(--fill-color);\n",
              "    }\n",
              "    80% {\n",
              "      border-color: transparent;\n",
              "      border-right-color: var(--fill-color);\n",
              "      border-bottom-color: var(--fill-color);\n",
              "    }\n",
              "    90% {\n",
              "      border-color: transparent;\n",
              "      border-bottom-color: var(--fill-color);\n",
              "    }\n",
              "  }\n",
              "</style>\n",
              "\n",
              "      <script>\n",
              "        async function quickchart(key) {\n",
              "          const quickchartButtonEl =\n",
              "            document.querySelector('#' + key + ' button');\n",
              "          quickchartButtonEl.disabled = true;  // To prevent multiple clicks.\n",
              "          quickchartButtonEl.classList.add('colab-df-spinner');\n",
              "          try {\n",
              "            const charts = await google.colab.kernel.invokeFunction(\n",
              "                'suggestCharts', [key], {});\n",
              "          } catch (error) {\n",
              "            console.error('Error during call to suggestCharts:', error);\n",
              "          }\n",
              "          quickchartButtonEl.classList.remove('colab-df-spinner');\n",
              "          quickchartButtonEl.classList.add('colab-df-quickchart-complete');\n",
              "        }\n",
              "        (() => {\n",
              "          let quickchartButtonEl =\n",
              "            document.querySelector('#df-3b3daf62-682b-4ff9-9140-b4c18d86c126 button');\n",
              "          quickchartButtonEl.style.display =\n",
              "            google.colab.kernel.accessAllowed ? 'block' : 'none';\n",
              "        })();\n",
              "      </script>\n",
              "    </div>\n",
              "    </div>\n",
              "  </div>\n"
            ],
            "application/vnd.google.colaboratory.intrinsic+json": {
              "type": "dataframe",
              "variable_name": "data",
              "summary": "{\n  \"name\": \"data\",\n  \"rows\": 100,\n  \"fields\": [\n    {\n      \"column\": \"Unnamed: 0\",\n      \"properties\": {\n        \"dtype\": \"number\",\n        \"std\": 29,\n        \"min\": 0,\n        \"max\": 99,\n        \"num_unique_values\": 100,\n        \"samples\": [\n          83,\n          53,\n          70\n        ],\n        \"semantic_type\": \"\",\n        \"description\": \"\"\n      }\n    },\n    {\n      \"column\": \"data\",\n      \"properties\": {\n        \"dtype\": \"number\",\n        \"std\": 6.25356123240434,\n        \"min\": 4.043303261699069,\n        \"max\": 33.75324807688975,\n        \"num_unique_values\": 100,\n        \"samples\": [\n          27.489277523582203,\n          19.55317542263612,\n          16.080498393247787\n        ],\n        \"semantic_type\": \"\",\n        \"description\": \"\"\n      }\n    }\n  ]\n}"
            }
          },
          "metadata": {},
          "execution_count": 2
        }
      ],
      "source": [
        "import pandas as pd\n",
        "\n",
        "data = pd.read_csv(\"/data.csv\")\n",
        "\n",
        "data.head()\n"
      ]
    },
    {
      "cell_type": "markdown",
      "id": "3d06cbbf",
      "metadata": {
        "id": "3d06cbbf"
      },
      "source": [
        "Запустіть код нижче. Для коректної робити всіх подальших методів дані мають бути у вигляді одновимірного `numpy.ndarray` вектора та мати розмірність (100,). Така розмірність означає, що дані - одновимірні (колонка), якщо б розмірність була (100, 1), то дані сприймаються методами як двовимірні (таблиця), хоча для нас виглядати можуть так само."
      ]
    },
    {
      "cell_type": "code",
      "execution_count": 3,
      "id": "cce1632b",
      "metadata": {
        "id": "cce1632b",
        "colab": {
          "base_uri": "https://localhost:8080/"
        },
        "outputId": "91ab9786-cfc5-452f-d9b9-ec9e64b37c24"
      },
      "outputs": [
        {
          "output_type": "execute_result",
          "data": {
            "text/plain": [
              "(100,)"
            ]
          },
          "metadata": {},
          "execution_count": 3
        }
      ],
      "source": [
        "data = data.data.values\n",
        "data.shape"
      ]
    },
    {
      "cell_type": "markdown",
      "id": "abdcef5d",
      "metadata": {
        "id": "abdcef5d"
      },
      "source": [
        "**Завдання 1**. Зчитані дані - це сума покупок в доларах наших покупців на сайті протягом липня 2025 року.\n",
        "\n",
        "До цього місяця, ми мали продажі в середньому на чек $20.\n",
        "\n",
        "Необхідно зʼясувати, чи вийшло у нас статистично значущо **підвищити** середній чек за липень 2025?\n",
        "\n",
        "Аби дати відповідь - ми проведемо z-test на рівні значущості $\\alpha=0.05$ двома способами. В цьому завданні ми будемо виконувати обчислення \"вручну\" з використанням бібліотек numpy та scipy.stats подібно до прикладу в лекції. Для цього виконайте наступні 7 кроків. Правильне виконання кожного з кроків оцінюється в 1 бал.\n",
        "\n",
        "1. Запишіть параметри задачі у змінні Python:\n",
        "    - `sample_mean` - $\\bar{x}$, середнє значення в вибірці\n",
        "    - `population_mean` - $\\mu_0$, середнє значення в популяції (тобто те, з яким ми порівнюємо середнє вибіркове значення)\n",
        "    - `population_std` - $\\sigma$, вибіркове стандартне відхилення, яке ми вважаємо, що є рівним ст. відх. популяції, адже маємо достатньо велику вибірку.\n",
        "    - `sample_size` - $n$, розмір вибірки\n",
        "    - `alpha` - $\\alpha$ рівень значущості\n",
        "    \n",
        "    **Увага!** Для обчислення стандартного відхилення маємо скористатись функцією `np.std(your_dataframe, ddof=1)`. Чому так - розбираємо в лекції про t-test.\n",
        "\n",
        "\n",
        "2. Визначте для цієї задачі:\n",
        "    - якою є гіпотеза $H_0$\n",
        "    - якою є альтернативна гіпотеза $H_a$\n",
        "    - з яким типом тесту ми маємо справу - лівосторонній, правосторонній чи двосторонній.\n",
        "\n",
        "3. Обчисліть стандартну помилку SE.\n",
        "4. Розрахуйте z-статистику.\n",
        "5. Знайдіть критичне z-значення з допомогою бібліотеки stats.\n",
        "6. Обчисліть p-value з допомогою бібліотеки stats.\n",
        "7. Прийміть рішення, чи відхиляєте ви гіпотезу $H_0$. Для прийняття рішення зробіть і порівняння z-статистики з критичним значенням, і проаналізуйте p-value."
      ]
    },
    {
      "cell_type": "code",
      "source": [
        "## Завдання 1. Перевірка, чи середній чек > 20 доларів у липні 2025\n",
        "\n",
        "### 1. Параметри задачі\n",
        "\n",
        "import numpy as np\n",
        "from scipy import stats\n",
        "\n",
        "sample_mean = np.mean(data)\n",
        "population_mean = 20\n",
        "population_std = np.std(data, ddof=1)\n",
        "sample_size = len(data)\n",
        "alpha = 0.05\n",
        "\n",
        "sample_mean, population_std, sample_size\n"
      ],
      "metadata": {
        "id": "NX2XezWLdf4t",
        "colab": {
          "base_uri": "https://localhost:8080/"
        },
        "outputId": "648ea4b5-7da0-41f0-f5bf-1c1acba18733"
      },
      "id": "NX2XezWLdf4t",
      "execution_count": 4,
      "outputs": [
        {
          "output_type": "execute_result",
          "data": {
            "text/plain": [
              "(np.float64(19.37755319670441), np.float64(6.25356123240434), 100)"
            ]
          },
          "metadata": {},
          "execution_count": 4
        }
      ]
    },
    {
      "cell_type": "code",
      "source": [
        "## 2\n",
        "\n",
        "\n",
        "SE = population_std / np.sqrt(sample_size)\n",
        "\n",
        "\n",
        "z_stat = (sample_mean - population_mean) / SE\n",
        "\n",
        "SE, z_stat\n"
      ],
      "metadata": {
        "colab": {
          "base_uri": "https://localhost:8080/"
        },
        "id": "WdDsJ8_hiSG1",
        "outputId": "15dcdca5-41d9-4b5b-bedc-7112e24f2579"
      },
      "id": "WdDsJ8_hiSG1",
      "execution_count": 5,
      "outputs": [
        {
          "output_type": "execute_result",
          "data": {
            "text/plain": [
              "(np.float64(0.625356123240434), np.float64(-0.995347738933505))"
            ]
          },
          "metadata": {},
          "execution_count": 5
        }
      ]
    },
    {
      "cell_type": "code",
      "source": [
        "## 3\n",
        "\n",
        "z_crit = stats.norm.ppf(1 - alpha)\n",
        "\n",
        "p_value = 1 - stats.norm.cdf(z_stat)\n",
        "\n",
        "z_crit, p_value\n"
      ],
      "metadata": {
        "colab": {
          "base_uri": "https://localhost:8080/"
        },
        "id": "OE3bJAKiidCy",
        "outputId": "2286cf24-a5b0-4f88-a2a8-fd63f0bf5696"
      },
      "id": "OE3bJAKiidCy",
      "execution_count": 7,
      "outputs": [
        {
          "output_type": "execute_result",
          "data": {
            "text/plain": [
              "(np.float64(1.6448536269514722), np.float64(0.8402164165464012))"
            ]
          },
          "metadata": {},
          "execution_count": 7
        }
      ]
    },
    {
      "cell_type": "code",
      "source": [
        "## 4\n",
        "\n",
        "if (z_stat >= z_crit) and (p_value < alpha):\n",
        "    print(\"Відхиляємо H0: середній чек статистично значуще зріс.\")\n",
        "else:\n",
        "    print(\"Не відхиляємо H0: доказів зростання середнього чеку недостатньо.\")\n"
      ],
      "metadata": {
        "colab": {
          "base_uri": "https://localhost:8080/"
        },
        "id": "T0byPmx9iqW0",
        "outputId": "31a5c7f7-3ce2-4b45-c35e-56c7992dd88f"
      },
      "id": "T0byPmx9iqW0",
      "execution_count": 8,
      "outputs": [
        {
          "output_type": "stream",
          "name": "stdout",
          "text": [
            "Не відхиляємо H0: доказів зростання середнього чеку недостатньо.\n"
          ]
        }
      ]
    },
    {
      "cell_type": "markdown",
      "source": [
        "**Завдання 2.** Виконайте обчислення z-test з використанням бібліотеки statsmodels.\n",
        "\n",
        "Отримайте z-статистику та р-значення.\n",
        "\n",
        "Виведіть p-значення та зробіть висновок, чи ми маємо достатньо доказів, аби стверджувати, що середній чек зріс.\n",
        "\n",
        "Чи зійшлись значення z-статистику та р-значення в цьому завданні з попередніми обчисленнями?\n",
        "\n",
        "Завдання оцінюється в 3 бали."
      ],
      "metadata": {
        "id": "0FOBByRMXkL2"
      },
      "id": "0FOBByRMXkL2"
    },
    {
      "cell_type": "code",
      "source": [
        "## Завдання 2\n",
        "\n",
        "from statsmodels.stats.weightstats import ztest\n",
        "import numpy as np\n",
        "\n",
        "mu0 = 20\n",
        "alpha = 0.05\n",
        "\n",
        "z_stat_sm, p_value_sm = ztest(data, value=mu0, alternative='larger')\n",
        "\n",
        "print(\"Z-статистика (statsmodels):\", z_stat_sm)\n",
        "print(\"p-value (statsmodels):\", p_value_sm)\n",
        "\n",
        "if p_value_sm < alpha:\n",
        "    print(\"Відхиляємо H0: середній чек зріс.\")\n",
        "else:\n",
        "    print(\"Не відхиляємо H0: доказів зростання недостатньо.\")\n",
        "\n"
      ],
      "metadata": {
        "id": "f_Oa0DJhdg6v",
        "colab": {
          "base_uri": "https://localhost:8080/"
        },
        "outputId": "38dd3f9a-63dc-4f0d-e880-8aa0475a754e"
      },
      "id": "f_Oa0DJhdg6v",
      "execution_count": 10,
      "outputs": [
        {
          "output_type": "stream",
          "name": "stdout",
          "text": [
            "Z-статистика (statsmodels): -0.9953477389335053\n",
            "p-value (statsmodels): 0.8402164165464012\n",
            "Не відхиляємо H0: доказів зростання недостатньо.\n"
          ]
        }
      ]
    },
    {
      "cell_type": "markdown",
      "source": [
        "### Висновок і порівняння з попереднім завданням\n",
        "Очікуємо **Z ≈ -0.995** і **p-value ≈ 0.84** (бо середнє < 20, а тест правосторонній).\n",
        "Рішення однакове: **не відхиляємо $H_0$** на рівні $\\alpha=0.05$ — статистичних доказів зростання середнього чеку немає.\n"
      ],
      "metadata": {
        "id": "fj8jD5IWjR13"
      },
      "id": "fj8jD5IWjR13"
    }
  ],
  "metadata": {
    "hide_input": false,
    "kernelspec": {
      "display_name": "Python 3 (ipykernel)",
      "language": "python",
      "name": "python3"
    },
    "language_info": {
      "codemirror_mode": {
        "name": "ipython",
        "version": 3
      },
      "file_extension": ".py",
      "mimetype": "text/x-python",
      "name": "python",
      "nbconvert_exporter": "python",
      "pygments_lexer": "ipython3",
      "version": "3.11.3"
    },
    "toc": {
      "base_numbering": 1,
      "nav_menu": {},
      "number_sections": true,
      "sideBar": true,
      "skip_h1_title": false,
      "title_cell": "Table of Contents",
      "title_sidebar": "Contents",
      "toc_cell": false,
      "toc_position": {},
      "toc_section_display": true,
      "toc_window_display": false
    },
    "varInspector": {
      "cols": {
        "lenName": 16,
        "lenType": 16,
        "lenVar": 40
      },
      "kernels_config": {
        "python": {
          "delete_cmd_postfix": "",
          "delete_cmd_prefix": "del ",
          "library": "var_list.py",
          "varRefreshCmd": "print(var_dic_list())"
        },
        "r": {
          "delete_cmd_postfix": ") ",
          "delete_cmd_prefix": "rm(",
          "library": "var_list.r",
          "varRefreshCmd": "cat(var_dic_list()) "
        }
      },
      "types_to_exclude": [
        "module",
        "function",
        "builtin_function_or_method",
        "instance",
        "_Feature"
      ],
      "window_display": false
    },
    "colab": {
      "provenance": [],
      "include_colab_link": true
    }
  },
  "nbformat": 4,
  "nbformat_minor": 5
}